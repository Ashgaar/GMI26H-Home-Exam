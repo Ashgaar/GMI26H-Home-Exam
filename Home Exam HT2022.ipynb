{
 "cells": [
  {
   "cell_type": "markdown",
   "metadata": {},
   "source": [
    "# GMI26H Cryptography Home Exam"
   ]
  },
  {
   "cell_type": "markdown",
   "metadata": {},
   "source": [
    "P1 HT22, Dalarna University\n",
    "\n",
    "(c) Joonas Pääkkönen\n",
    "\n",
    "## This is the final version of the home exam. We will not be adding any more questions.\n",
    "\n",
    "### Questions 13 to 24 are \"short questions\" that must be answered with just a couple of sentences with or without a single optional figure. References are not required for these answers. Be concise and on point.\n",
    "\n",
    "### You may write your answers in English or Swedish\n",
    "\n",
    "Remember that the Links folder in Learn may include useful links\n",
    "\n",
    "Knowing LaTeX is not a requirement but it may make the few equations that may be needed in your answers prettier, e.g. you may write \"$a^2 = b \\mod 3$\" instead of \"a^2 = b mod 3\"\n",
    "\n",
    "### Use \"File -> Download as\" or \"Print to PDF\" in browser to download this file (with your answers) as .pdf and you will see the length of each answer in .pdf format\n",
    "\n",
    "### Deadline for the entire home exam: Thursday October 27th at 11:59 PM\n",
    "\n",
    "Home exam submission folder will be opened later (some days before the deadline)\n",
    "\n",
    "The maximum length of an essay is 2 pages .pdf format. If your essay contains one or more images or plots, the maximum is 2.5 pages."
   ]
  },
  {
   "cell_type": "markdown",
   "metadata": {},
   "source": [
    "The following information is directly from the study guide:\n",
    "\n",
    "Home exam: One written home exam which is orally examined. Essays, terminology and short Python exercises. See the notes in the preface of the home exam. The maximum length of an essay is 2 pages .pdf format. If your essay contains one or more images or plots, the maximum is 2.5 pages.\n",
    "\n",
    "The written home exam will be updated approximately once a week so it is published in multiple parts. More questions will be added in each part. At the oral exam of the home exam, any part of the home exam may be examined. All parts of the home exam need to be submitted in one long JNB .ipynb file as well as in .pdf. There will be no (extensive) mathematics in the home exam, apart from perhaps a short formula here or there, but understanding the basics of the mathematics behind cryptography will surely improve your general understanding of the algorithms. Python and Sage can be used to add plots, diagrams and flowcharts to JNB files. You can also add your own drawings to your answers by taking pictures and using the Insert Image command in Markdown cells.\n",
    "\n",
    "You must be able to answer the questions in the oral exam of the home exam without looking at the written answers, though this does not mean that you cannot share your screen. However, if all you can do is to read every answer from your screen word for word, it’s a telltale sign that you have not understood the concept and may have simply copy-pasted your answers from somewhere else.\n",
    "\n",
    "If you have included a drawing or any other figure in your solutions, please do share your screen in the oral exam of the home exam and explain the drawing. You may also have a drawing app open on your computer and draw or write additional things on the fly, if you want.\n",
    "\n",
    "Students are encouraged to discuss cryptography at a general level with fellow students, though each student must write and submit his or her own solutions to the home exam and the AES project. Remember that on Learn you can look for everyone’s username (and thus email address handle) under “Roster → View everyone in your course” so you can email and ask others if you are looking for study buddies. The home exam is individual with individual solutions but working with fellow students is not prohibited. However, if you work with a fellow student, you must mention who you worked with in your answers. For instance: “On questions 2 and 4, I was working together with Carin Keysson”.\n",
    "\n",
    "Also remember that it is usually good practice to refer to several sources of information, not only one (e.g. always only a Wikipedia article).\n",
    "\n",
    "Presentations (oral exams): The AES project and the home exam will be orally presented. During your AES presentation we will look at your code and answers together and you will be asked questions regarding your implementation. You must be able to explain how your code works. If you have had help from others you must comment this in your code. You must comment if you have discussed your code or collaborated with fellow students and comment this for every class/method and give credit to the right person. The same goes if you have looked at code from the internet.\n",
    "\n",
    "Bring a valid ID card (e.g. a driver’s license or a DU access card with a picture) to each of the oral exams.\n",
    "\n",
    "Submissions: Students are encouraged to discuss the labs with fellow students, but everything must be submitted personally on Learn. Each student must write and submit individual solutions.\n",
    "\n",
    "Resubmissions: The home exam written exam and the AES project can be resubmitted twice until the\n",
    "student passes them. Also the oral exams can be retaken twice.\n",
    "\n",
    "Plagiarism: Uphold academic integrity and honesty. Do not plagiarise. Plagiarism means that your text or code reproduces the contents of someone else’s text or code without referencing to the original text or code. Plagiarism can at worst lead to suspension from studies and instructors are required to report all discovered plagiarism. To avoid plagiarism, it is important that students learn how to quote and cite correctly. Do not submit answers written by other students.\n",
    "\n",
    "Week 43: last week before exam week, one deadline for both home exam written exam and AES report:\n",
    "Thursday October 27th at 11:59 PM (Thursday night before the exam week)\n",
    "\n",
    "Week 44: exam week, reserved Monday morning + Tuesday morning for AES oral exams, whole Friday for home exam oral exams. Exact times of individual oral exams are TBA.\n",
    "\n",
    "### Questions up to question 24/24."
   ]
  },
  {
   "cell_type": "markdown",
   "metadata": {},
   "source": [
    "## Question 1*:\n",
    "\n",
    "(essay, max length 2.5 pages including figures)\n",
    "\n",
    "Essay title: Explain the Transport Layer Security (TLS) protocol\n",
    "\n",
    "Especially focus on the latest version 1.3 and the cryptographic aspects of the protocol. Especially pay attention to the related terminology and concepts covered in the course.\n",
    "\n",
    "Your essay needs to define and include the concept of \"cipher suite\" and discuss the cipher suite used in TLS.\n",
    "\n",
    "You may also visit e.g. your favourite websites and see if they are using TLS (and what version, 1.3 maybe) for encryption and authentication.\n",
    "\n",
    "*This question has been turned into a bonus question. It is not compulsory to answer this question but answering it well makes your overall home exam stronger."
   ]
  },
  {
   "cell_type": "markdown",
   "metadata": {},
   "source": [
    "## Question 2:\n",
    "\n",
    "(essay, max length 2.5 pages including figures)\n",
    "\n",
    "Essay title: Next Generation Encryption (NGE)\n",
    "\n",
    "Discuss Next Generation Encryption (NGE) especially from the point of view of the algorithms discussed in the course and e.g. the recommended key lengths for these algorithms"
   ]
  },
  {
   "cell_type": "markdown",
   "metadata": {},
   "source": []
  },
  {
   "cell_type": "markdown",
   "metadata": {},
   "source": [
    "## Question 3:\n",
    "\n",
    "(essay, max length 2.5 pages including figures)\n",
    "\n",
    "Essay title: Cryptographic security services\n",
    "\n",
    "Several security services may be provided using cryptographic mechanisms. Such services include confidentiality, data integrity, authentication, authorization and non-repudiation. Often a combination of these services is required. \n",
    "\n",
    "Discuss these security services especially from the point of view of the algorithms discussed in the course, what they mean (definitions of confidentiality, data integrity, authentication, authorization and non-repudiation must be included) and what cryptographic mechanisms or algorithms can be used to achieve them."
   ]
  },
  {
   "cell_type": "markdown",
   "metadata": {},
   "source": []
  },
  {
   "cell_type": "markdown",
   "metadata": {},
   "source": [
    "## Question 4:\n",
    "\n",
    "(essay, max length 2.5 pages including figures)\n",
    "\n",
    "Essay title: Data Encryption Standard (DES)\n",
    "\n",
    "Data Encryption Standard (DES) is a famous Feistel cipher. Start by explaining the Feistel cipher, what it is and what makes it a good cryptographic mechanism and how DES is built upon it. However, the original DES is nowadays considered insecure, and instead, Triple DES is recommended. Explain why DES is considered insecure, what Triple DES is and how it improves on the original DES."
   ]
  },
  {
   "cell_type": "markdown",
   "metadata": {},
   "source": []
  },
  {
   "cell_type": "markdown",
   "metadata": {},
   "source": [
    "## Question 5:\n",
    "\n",
    "Explain the Playfair cipher and encrypt the phrase \"jamesbondliveandletdie\" with the keyword \"dalarna\". You can choose I/J by yourself if needed."
   ]
  },
  {
   "cell_type": "markdown",
   "metadata": {},
   "source": [
    "Stallings, W. (2022) details how the playfair cipher works so I will follow the book on how to do this. First we generate the square using the keyword \"dalarna\", $\\begin{matrix}D & A & L & R & N\\\\B & C & E & F & G\\\\H & I & K & M & O\\\\P & Q & S & T & U\\\\V & W & X & Y & Z\\\\\\end{matrix}$. We then divide the plaintext into pairs, \"ja\" \"me\" \"sb\" \"on\" \"dl\" \"iv\" \"ea\" \"nd\" \"le\" \"td\" \"ie\", we have no pairs with repeating letters which means that we don't have to add any fillers. \n",
    "\n",
    "The rules detailed in Stallings(2022) state that 2. if two letters in the pair are in the same row then they are replaced with the letter to the right 3. if the two letters in the pair are in the same column then the letter is replaced by the letter beneath. 4. if none of the above were true then the two letters in the a pair are replaced by the letter that lies in its own row but in the column of the other letter. So for example for the last one, \"ct\" becomes \"fq\".\n",
    "\n",
    "We can now look at the first pair \"ja\", where j would be i in our case. This would follow rule 3, \"j\" would become \"q\" and \"a\" would become \"c\", \"ja\" would therefore become \"qc\". Second pair is \"me\", we apply the 4th rule. \"m\" we go on the same row to the letter in the same column as \"e\" which is \"k\", we do the same for \"e\" which becomes \"f\", this forms \"kf\". The fifth pair \"dl\" have letters in the same row, \"d\" becomes \"a\" and \"l\" becomes \"r\". I've now showcased how I have applied all the rules and will now write out the encrypted text in pair.\n",
    "\n",
    "\n",
    "pair - encrypted pair\n",
    "\n",
    "ja - qc\n",
    "\n",
    "me - kf\n",
    "\n",
    "sb - pe\n",
    "\n",
    "on - ug\n",
    "\n",
    "dl - ar\n",
    "\n",
    "iv - hw\n",
    "\n",
    "ea - cl\n",
    "\n",
    "nd - da\n",
    "\n",
    "le - ek\n",
    "\n",
    "td - pr\n",
    "\n",
    "ie - kc\n",
    "\n",
    "The final encrypted text is \"qckfpeugarhwcldaekprkc\".\n",
    "\n",
    "Reference\n",
    "\n",
    "Stallings, W. (2022). Cryptography and Network Security: Principles and Practice. Pearson."
   ]
  },
  {
   "cell_type": "markdown",
   "metadata": {},
   "source": [
    "## Question 6:\n",
    "\n",
    "Our spies have intercepted \"svnyieakeeeklmtrnrheteetfvtnslvnioeesotws\". Attack the message and determine the type of cipher the enemy is using."
   ]
  },
  {
   "cell_type": "markdown",
   "metadata": {},
   "source": [
    "The first thing to point out is that there are no numbers or symbols this means we can apply frequency analysis (\"Frequency analysis\", 2022). This is where you analyze the frequency of the letters in the ciphertext and compare it to the frequency of the letters in the english language, in simple substitution ciphers if the frequency of an unusual letter like \"z\" appears as often as \"a\" then that would imply that \"z\" might have been substituted with \"a\". If we then look at the ciphertext \"svnyieakeeeklmtrnrheteetfvtnslvnioeesotws\", we can count the letters which leads to a = 1, e = 9, f = 1, h = 1, i = 2, k = 2, l = 2, m = 1, n = 4, o = 2, r = 2, s = 4, t = 5, v = 3, w = 1, y = 1 and the rest not mentioned are 0. Looking at the graph linked in \"Frequency analysis\" (2022) and comparing it to the graph I made using the data it makes it seem like the ciphertext is in plain english.\n",
    "\n",
    "![graph](graph.png)\n",
    "This graph was generated using https://www.101computing.net/frequency-analysis/.\n",
    "\n",
    "I have now established that it is probably written in plain englis, we can then move onto looking for patterns in the text. The thing that stands out to me is the three e's, they stand out because there is no word that has three repeating letters in a word. This further pushes me towards the idea that it is most likely in plain english and it also makes me wonder if there is some kind of transposition technique delpoyed. We can also look at pairs of letters, as detailed by Thiagi group (2015), but this does not yield much as none of the common pairs seem to be present.\n",
    "\n",
    "I will now move onto setting up into columns to try to see patterns or of I can form any words.\n",
    "\n",
    "SVNYIEAKEEEKLMTRNRHETEETFVTNSLVNIOEESOTWS\n",
    "\n",
    "SVNYIEAKEEEKLMTRNRHET\n",
    "\n",
    "EETFVTNSLVNIOEESOTWS\n",
    "\n",
    "SVNYIEAKEE\n",
    "\n",
    "EKLMTRNRHET\n",
    "\n",
    "EETFVTNSLV\n",
    "\n",
    "NIOEESOTWS\n",
    "\n",
    "SVNYI\n",
    "\n",
    "EAKEE\n",
    "\n",
    "EKLMT\n",
    "\n",
    "RNRHET\n",
    "\n",
    "EETFV\n",
    "\n",
    "TNSLV\n",
    "\n",
    "NIOEE\n",
    "\n",
    "SOTWS\n",
    "\n",
    "Despite finding words like \"seer\" and \"seen\", this does not produce much of value as it seems like I can't find many more words.\n",
    "\n",
    "I will now try anagramming to try and find words that make sense. What makes me curious is the combination \"mtr\" where if you place the most common letter \"e\" between you get \"meter\", this similarily happens to \"svn\" which becomes \"seven\" if placed between the letters. Now looking at the text you can divide it in half and notice a pattern, the words \"meter\" and \"seven\" are formed if you first first read row one letter one then row two letter one and so on. \n",
    "\n",
    "SVNYIEAKEEEKLMTRNRHET\n",
    "EETFVTNSLVNIOEESOTWS\n",
    "\n",
    "This leads me to believe that it is a rail fence cipher, where the text is divided into rails and is supposed to be read in order of the rail. Assuming this is true I will try to form the sentence or word, this therefore becomes \"SEVENTYFIVETANKSELEVENKILOMETERSNORTHWEST\" using two rails.\n",
    "\n",
    "I have therefore concluded that the cipher most likely used is the rail fence cipher.\n",
    "\n",
    "Refernce\n",
    "\n",
    "Frequency analysis. (2022, 2 October) In wikipedia. https://en.wikipedia.org/wiki/Frequency_analysis\n",
    "\n",
    "Thiagi group. (2015, February 15). Cryptograms: New Vision. http://www.thiagi.com/instructional-puzzles-original/2015/2/13/cryptograms"
   ]
  },
  {
   "cell_type": "markdown",
   "metadata": {},
   "source": [
    "## Question 7:\n",
    "\n",
    "Estimate the amount of time it would take for Python and your personal computer system to loop through all possible AES-256 keys. Assume that a new key is updated (saved in a memory location) in each iteration of a for-loop."
   ]
  },
  {
   "cell_type": "code",
   "execution_count": 1,
   "metadata": {},
   "outputs": [
    {
     "name": "stdout",
     "output_type": "stream",
     "text": [
      "Time taken is 5.476065158843994\n"
     ]
    }
   ],
   "source": [
    "import time\n",
    "start_time = time.time()\n",
    "\n",
    "for i in range(110000000):\n",
    "    l = i\n",
    "    \n",
    "stop_time = time.time()\n",
    "print(f'Time taken is {stop_time - start_time}')"
   ]
  },
  {
   "cell_type": "markdown",
   "metadata": {},
   "source": [
    "There are $1,1 * 10^{77}$ different keys in aes 256, I decided to take out $1,1 * 10^{8} = 110000000$. If we use this number and run it, it then takes roughly 5 seconds,if we then make this into years we get $\\frac{\\frac{\\frac{\\frac{5* 10^{69}}{12}}{60}}{24}}{365} ≈ 8 * 10^{62}$ years. An unimagineable number.\n"
   ]
  },
  {
   "cell_type": "markdown",
   "metadata": {},
   "source": [
    "## Question 8:\n",
    "\n",
    "Briefly explain why each of the following statements is true.\n",
    "\n",
    "a) $\\gcd(37,36)=37-36$"
   ]
  },
  {
   "cell_type": "markdown",
   "metadata": {},
   "source": [
    "We generalize, $gcd(x + 1, x) = x + 1 - x$, as we can see $x + 1 - x$ will always be equal to $1$. We let $x$ and $x + 1$ be integers, for any integer that divides both $x$ and $x + 1$ this will also divide $x - x + 1$. We already concluded that this will always be equal to $1$ and the only integer to divide $1$ is $1$. This therefore proves the statement.\n",
    "\n",
    "Source: https://en.wikipedia.org/wiki/Euclidean_algorithm"
   ]
  },
  {
   "cell_type": "markdown",
   "metadata": {},
   "source": [
    "b) $256 | 4^{128}$"
   ]
  },
  {
   "cell_type": "markdown",
   "metadata": {},
   "source": [
    "If we have $n^{x}$ and $n^{y}$,where $\\frac{n^{y}}{n^{x}}$, then as long as $y \\geq x$ then it is divisible since it will just be a multiple of $n$. For example, $n = 4$, $x = 4$ and $y = 5$, we can then write $\\frac{4^{5}}{4^{4}} = 4$. Since the base is the same the numerator will always be a multiple of $4$.\n",
    "\n",
    "\n",
    "Working with previous statement we can write $256$ as $4^{4}$, which we plug in $\\frac{4^{128}}{4^{4}}$, this will result in a multiple of $4$. This therefore proves the statement."
   ]
  },
  {
   "cell_type": "markdown",
   "metadata": {},
   "source": [
    "c) If $a$ and $b$ are prime, then $c=ab+1$ not necessarily prime."
   ]
  },
  {
   "cell_type": "markdown",
   "metadata": {},
   "source": [
    "If $a = 3$ and $b = 5$ then $3 * 5 + 1 = 16$ which is not a prime. This example proves then that the statement is true. "
   ]
  },
  {
   "cell_type": "markdown",
   "metadata": {},
   "source": [
    "d) If $p$ is prime and $a$ is coprime to $p$, then $a^{p-1}$ is congruent to $\\gcd(a,p)$ modulo $p$."
   ]
  },
  {
   "cell_type": "markdown",
   "metadata": {},
   "source": [
    "Since $p$ is prime and $a$ is coprime to $p$, that implies that $a$ is not divisible by $p$. We can then use Fermat's theorem which states that $a^{p - 1}$ modulo $p$ is congruent to $1$. Again using the fact that $a$ and $p$ are coprime, this means that $gcd(a, p)$ modulo $p$ is equal to $ 1$. Which means that $a^{p - 1} \\equiv gcd(a, p)$ can be written as $1 \\equiv 1$, therefore proving the statement.\n"
   ]
  },
  {
   "cell_type": "markdown",
   "metadata": {},
   "source": [
    "e) $24 \\equiv -51 \\mod 5$"
   ]
  },
  {
   "cell_type": "markdown",
   "metadata": {},
   "source": [
    "We find the a property of congruence is that if $a \\equiv b$ modulo $n$ if $n|(a - b)$. If $a = 24$,$b = -51$ and $n = 5$, then $5|(24-(-51))$ which can be written as $\\frac{75}{5}=15$. This is is then true."
   ]
  },
  {
   "cell_type": "markdown",
   "metadata": {},
   "source": [
    "f) $\\phi(\\phi(13))=4$"
   ]
  },
  {
   "cell_type": "markdown",
   "metadata": {},
   "source": [
    "The functions works by counting the integer up to a given integer $x$ that are relative prime to $x$. Relative prime is when the only common divisor is $1$. We run it through once $\\phi(13) = 12$, this means that counting from $1$ to $13$ there are $12$ integers that only have the common divisor of $1$, $\\phi(12) = 4$ for the same reason. The answer is therefore 4."
   ]
  },
  {
   "cell_type": "markdown",
   "metadata": {},
   "source": [
    "## Question 9:\n",
    "\n",
    "For polynomial arithmetic with coefficients in $\\mathbb Z_{11}$, perform the following calculations. Also, briefly explain the difference between calculations in $\\mathbb Z_{11}$ and the \"normal\" way (calculations with coefficients in e.g. the reals $\\mathbb R$).\n",
    "\n",
    "a) $(x^2 + 2x + 9)(x^3 + 11x^2 + x + 7)$"
   ]
  },
  {
   "cell_type": "markdown",
   "metadata": {},
   "source": [
    "Stallings (2022) explains that polynomial artihmetic with coefficients $\\mathbb Z_{n}$ is the same as ordinary but that the coefficients should be in $\\mathbb Z_{n}$. In figure 5.4, it states that \"Arithetmic on coefficients is performed modulo p\". For example coefficients would therefore be calculated like this $5 * 5 = 3$ in $\\mathbb Z_{11}$ since $5 * 5 = 25$, $25$ modulo $11 = 3$. The difference between how you would normally do it and this way is that after you have combined equals you would normally not do anything else, with coefficients in $\\mathbb Z_{11}$ we apply modulo to the coefficients.\n",
    "\n",
    "We expand $(x^2 + 2x + 9)(x^3 + 11x^2 + x + 7)$ which results in $x^{5}+11x^{4}+x^{3}+7x^{2}+2x^{4}+22x^{3}+2x^{2}+14x+9x^{3}+99x^{2}+0x+63$, if we then combine equals we get $x^{5}+13x^{4}+32x^{3}+108x^{2}+23x+63$. Now we take $(1$ modulo $11)x^{5}+(13$ modulo $11)x^{4}+(32$ modulo $11)x^{3}+(108$ modulo $11)x^{2}+(23$ modulo $11)x+(63$ modulo $11) = x^{5}+2x^{4}+10x^{3}+9x^{2}+x+8$ in $\\mathbb Z_{11}$.\n",
    "\n",
    "The answer is therfore $x^{5}+2x^{4}+10x^{3}+9x^{2}+x+8$ in $\\mathbb Z_{11}$.\n",
    "\n",
    "\n",
    "Reference \n",
    "\n",
    "Stallings, W. (2022). Cryptography and Network Security: Principles and Practice. Pearson."
   ]
  },
  {
   "cell_type": "markdown",
   "metadata": {},
   "source": [
    "b) $(8x^2 + 3x + 2)(5x^2 + 6)$"
   ]
  },
  {
   "cell_type": "markdown",
   "metadata": {},
   "source": [
    "We expand $(8x^{2}+3x+2)(5x^{2}+6)$ which results in $40x^{4}+48x^{2}+15x^{3}+18x+10x^{2}+12$, if we then combine equals we get $40x^{4}+15x^{3}+58x^{2}+18x+12$. Now we apply modulo 11 to the coefficients, $(40$ modulo $11)x^{4}+(15$ modulo $11)x^{3}+(58$ modulo $11)x^{2}+(18$ modulo $11)x+(30$ modulo $11) = 7x^{4}+4x^{3}+3x^{2}+7x+8$.\n",
    "\n",
    "The answer is therefore $7x^{4}+4x^{3}+3x^{2}+7x+8$ in $\\mathbb Z_{11}$."
   ]
  },
  {
   "cell_type": "markdown",
   "metadata": {},
   "source": [
    "## Question 10:\n",
    "\n",
    "The enemy is poor and can only afford small semiprime RSA moduli $n=pq$.\n",
    "\n",
    "a) Use Python/Sage to factorize the enemy's modulus $n=2778546901342097$ into its prime factors $p$ and $q$, that is, find $p$ and $q$."
   ]
  },
  {
   "cell_type": "code",
   "execution_count": 65,
   "metadata": {},
   "outputs": [
    {
     "name": "stdout",
     "output_type": "stream",
     "text": [
      "P = 15485867, Q = 179424691\n"
     ]
    }
   ],
   "source": [
    "from math import sqrt\n",
    "\n",
    "n = 2778546901342097\n",
    "\n",
    "def factorize(n):\n",
    "    n_original = n # since n is modified throughtout the code I saved the orgiinal value of in this variable\n",
    "    p = 1 \n",
    "    q = 1\n",
    "    for i in range(2, int(sqrt(n))):\n",
    "        if n % i == 0:\n",
    "            p = i\n",
    "            break # for efficieny break when we find it.\n",
    "\n",
    "    q = n_original // p\n",
    "        \n",
    "    return p, q\n",
    "\n",
    "p, q = factorize(n)\n",
    "print(f'P = {p}, Q = {q}')"
   ]
  },
  {
   "cell_type": "markdown",
   "metadata": {},
   "source": [
    "Given $n$ and $n = pq$, we can then rewrite it as $q = \\frac{n}{p}$ so the question is then how do we find $p$. Since the number is quite small I decided to bruteforce it and test every number up to $\\sqrt{n}$ as stated in the thread (Stackoverflow,2011). Given $n$ and $p$ we can then calculate $q$.\n",
    "\n",
    "Reference\n",
    "\n",
    "Stackoverflow. (2011, 27 april). Why do we check up to the square root of a number to determine if the number is prime? https://stackoverflow.com/questions/5811151/why-do-we-check-up-to-the-square-root-of-a-number-to-determine-if-the-number-is\n"
   ]
  },
  {
   "cell_type": "markdown",
   "metadata": {},
   "source": [
    "b) Use the $p$ and $q$ that you found in a) to find $\\phi(n)$. In other words, how can you driectly find $\\phi(n)$ without knowing $n$?"
   ]
  },
  {
   "cell_type": "code",
   "execution_count": 66,
   "metadata": {},
   "outputs": [
    {
     "name": "stdout",
     "output_type": "stream",
     "text": [
      "2778546706431540\n"
     ]
    }
   ],
   "source": [
    "phi_n= (p-1)*(q-1)\n",
    "print(phi_n)"
   ]
  },
  {
   "cell_type": "markdown",
   "metadata": {},
   "source": [
    "Stallings (2022) figure 9.5 states that \"$\\phi(n)=(p-1)(q-1)$\", also referenced in (\"RSA (cryptosystem)\", 2022), this means that given $q$ and $p$ we can calculate $\\phi(n)$.\n",
    "\n",
    "\n",
    "Reference\n",
    "\n",
    "Stallings, W. (2022). Cryptography and Network Security: Principles and Practice. Pearson.\n",
    "\n",
    "RSA (cryptosystem). (2022, 16 October) In wikipedia. https://en.wikipedia.org/wiki/RSA_(cryptosystem)"
   ]
  },
  {
   "cell_type": "markdown",
   "metadata": {},
   "source": [
    "c) The enemy seems to be using the RSA modulus $n=2778546901342097$ as in a) above and the public exponent $e=65537$. Use the Extended Euclidean algorithm to find the private exponent $d$. You can use e.g. the built-in Sage function for the Extended Euclidean algorithm."
   ]
  },
  {
   "cell_type": "code",
   "execution_count": 67,
   "metadata": {},
   "outputs": [
    {
     "name": "stdout",
     "output_type": "stream",
     "text": [
      "Coprime check for E and φ(n), value = 1\n",
      "1330108882324133\n"
     ]
    }
   ],
   "source": [
    "e = 65537\n",
    "coprime = gcd(e,phi_n)\n",
    "print(f'Coprime check for E and φ(n), value = {coprime}')\n",
    "\n",
    "e = 65537\n",
    "d = xgcd(e,2778546706431540)\n",
    "d = d[1]\n",
    "print(d)"
   ]
  },
  {
   "cell_type": "markdown",
   "metadata": {},
   "source": [
    "Similar to before where the book (Stallings, 2022) figure 9.5 defines $d = e^{-1}($ mod $φ(n))$. Where $e^{-1}$ is the multiplicative inverse, according to \"Extended Euclidean algorithm\" (2022) already does this which is why it is used.\n",
    "\n",
    "Reference\n",
    "\n",
    "Stallings, W. (2022). Cryptography and Network Security: Principles and Practice. Pearson.\n",
    "Extended Euclidean algorithm. (2022, 30 September) In wikipedia. https://en.wikipedia.org/wiki/Extended_Euclidean_algorithm"
   ]
  },
  {
   "cell_type": "markdown",
   "metadata": {},
   "source": [
    "d) Based on the the information you have found so far, decrypt $319111435225580$."
   ]
  },
  {
   "cell_type": "code",
   "execution_count": 68,
   "metadata": {},
   "outputs": [
    {
     "name": "stdout",
     "output_type": "stream",
     "text": [
      "12345\n"
     ]
    }
   ],
   "source": [
    "from builtins import pow # because sagemath overrides the pow function and I need the funtionality of the built-in version\n",
    "C = 319111435225580\n",
    "\n",
    "decrypted = pow(C,d,n)\n",
    "print(decrypted)"
   ]
  },
  {
   "cell_type": "markdown",
   "metadata": {},
   "source": [
    "Taken from the book (Stallings, 2022) figure 9.5 $M = C^{d}$ mod $n$. We simply plug in the variables and get the decrypted message.\n",
    "\n",
    "\n",
    "\n",
    "Reference\n",
    "\n",
    "Stallings, W. (2022). Cryptography and Network Security: Principles and Practice. Pearson."
   ]
  },
  {
   "cell_type": "markdown",
   "metadata": {},
   "source": [
    "## Question 11:\n",
    "\n",
    "Encrypt the phrase \"jamesbondliveandletdie\" (just like in question 5) with the Playfair cipher but now use your first name as the keyword. You can choose I/J by yourself if needed. First give your first name that you use as the keyword so that we can check that the solution is correct.\n",
    "\n",
    "Your name/keyword: MIKAEL"
   ]
  },
  {
   "cell_type": "markdown",
   "metadata": {},
   "source": [
    "Since this question is so similar to the last one I will work from that reference and the explanation given there. \n",
    "\n",
    "\n",
    "We first generate the square $\\begin{matrix}M & I & K & A & E\\\\L & B & C & D & F\\\\G & H & N & O & P\\\\Q & R & S & T & U\\\\V & W & X & Y & Z\\\\\\end{matrix}$. We get the pairs from last time \"ja\" \"me\" \"sb\" \"on\" \"dl\" \"iv\" \"ea\" \"nd\" \"le\" \"td\" \"ie\".\n",
    "\n",
    "pair - encrypted pair\n",
    "\n",
    "ja - ke\n",
    "\n",
    "me - im\n",
    "\n",
    "sb - rc\n",
    "\n",
    "on - po\n",
    "\n",
    "dl - fb\n",
    "\n",
    "iv - mw\n",
    "\n",
    "ea - me\n",
    "\n",
    "nd - oc\n",
    "\n",
    "le - fm\n",
    "\n",
    "td - yo\n",
    "\n",
    "ie - km\n",
    "\n",
    "The final encrypted text is \"keimrcpofbmwmeocfmyokm\"."
   ]
  },
  {
   "cell_type": "markdown",
   "metadata": {},
   "source": [
    "## Question 12:\n",
    "\n",
    "(essay, max length 2.5 pages including figures)\n",
    "\n",
    "The following people are famous figures in the history of cryptography. Write a short biography on one the people. Especially explain what contributions the person (has) made to cryptography. Focus mostly on the concepts and terminology used on our course.\n",
    "\n",
    "- Boris Hagelin\n",
    "- Auguste Kerckhoffs\n",
    "- Ralph Merkle\n",
    "- Claude Shannon\n",
    "- Alan Turing\n",
    "\n",
    "Essay title: Alan Turing"
   ]
  },
  {
   "cell_type": "markdown",
   "metadata": {},
   "source": [
    "## Alan Turing’s contributions to cryptography and cryptanalysis\n",
    "\n",
    "\n",
    "Alan Turing, regarded as the “father of modern computing” (Tucker, 2022), was a British mathematician who contributed immensely to the fields of mathematics and cryptanalysis and helped create the foundation for fields like computer science and artificial intelligence. In the second world war, Turing played an integral part in breaking the enigma machine which was used by the Germans to encrypt messages. For this he was later awarded by being given the title of OBE. An award given to people for being known nationally in a field of expertise (Gov.uk, n.d.). His contributions to computing were significant as Turing created and input-output system, programming system and a programming manual for the first marketable electronic computer (Copeland, 2022). This essay will focus on his contributions to the field of cryptography, more specifically cryptanalysis. \n",
    "\n",
    "The enigma machine was a device that utilized a substitution cipher to encrypt commercial, diplomatic and military communications. The machine was capable of both encryption and decryption if they have the same key, which in this case is the same as the machine settings. This would therefore qualify as symmetric encryption; security was provided by changing the machine settings regularly. This means that the machine that is decrypting a message must be configured the same as the machine was that encrypted it (“Enigma machine”, 2022). Turing and Gordon Welchman developed a machine called Bombe, which was used to break Enigma-enciphered messages during the second world war. Since the Germans were changing settings daily, it was integral to find out what these settings were so that the messages could be deciphered in time. The machine allowed the British to find the key, which is the settings for the machine, within hours of receiving a message (The national computing of computing, n.d.). \n",
    "\n",
    "The word “cribs” is used to describe any known or suspected plaintext that is commonly occurring. One attack vector is therefore a known plaintext-attack, where the attacker knows part of the words, in the plaintext, or the whole plaintext. This was used by the cryptanalysts, which Turing was amongst, to break the Enigma. They realized that the Germans would regularly send weather reports and a commonly used phrase was “Nothing to report” (101 computing, 2019). Once a crib had been found they were able to brute force the key using Bombe, this combination of developing Bombe and the usage of cribs was largely attributed to Turing. Bombe acted like 36 Enigma machines and went through every possible setting, every combination was checked using the Bombe’s comparator unit and if no logical contradiction was found, then those settings were written down as a potential candidate (Ludlow, 2019).\n",
    "\n",
    "Turingery, also called Turing’s method, was a method developed by Turing which made it possible to figure out how a cipher machine was constructed using the keys used to encrypt and decrypt messages (“Turingery”, 2022). This method was utilized in breaking the SZ40,\n",
    "the Lorenz SZ40 was a German developed rotor stream cipher machine that was used by Germany during the second world war, Lorenz was used for transmitting at the highest level of German command (“Lorenz cipher”, 2022). The Lorenz machine utilized a much more sophisticated cipher and was a lot harder to break, William Tutte managed to figure out the inner workings of the machine without ever seeing it. Sometimes two messages would be transmitted using the same key, it was therefore possible to extract the keys and use that to figure out how the machine worked. This is due to the Turingery method (Zitarelli, 2015). \n",
    "\n",
    "Cryptography goes back to ancient times, but it has evolved especially in the modern age with the computational power we have today. What might have taken days could be brute forced in minutes. This can be attributed to Turing’s contribution as he laid the foundation for computing and allowed everyone to have the power of a computer (Tresorit team, 2022). This pushed cryptography to become more advanced as computers were sophisticated enough and powerful enough to brute force and perform calculations much faster than a human. Turing published a paper titled “can machines think?” in 1950, he detailed a way to test if a machine is truly thinking called the “Turing test”. Turing, along with Alonzo Chruch, came up with the Church-Turing thesis which states that there are mathematical problems that can’t be computed (Aron, J; n.d.). This essentially means there’s a limit to computational power (L. Casti, Calude, n.d.). \n",
    "\n",
    "Despite these contributions to the scientific field of mathematics, cryptanalysis and creating the foundation for computer science, and his great contributions to the war effort through breaking the Enigma, Turing met an early end as in 1952 he was convicted for being a homosexual and was sentenced to be undergo hormone treatment for 12 months. In 1954 he was found dead; the official cause of death was ruled a suicide by cyanide poisoning. He broke the Enigma, and he devised a method that broke the Lorenz machine, saving countless of lives in the process. In 2013 Turing was pardoned and in 2019 he was voted the “greatest person of the 20th century”, that is the legacy of Alan Turing and his impact on cryptography and the world. (“Alan Turing, 2022”).\n",
    "\n",
    "Reference list\n",
    "\n",
    " \n",
    "Tucker, A. (2022, August 24). Computer science. Encyclopedia Britannica. https://www.britannica.com/science/computer-science\n",
    "\n",
    "Gov.uk. (n.d.). Nominate someone for an honour or award. https://www.gov.uk/honours/types-of-honours-and-awards\n",
    "\n",
    "Copeland, B. (2022, August 12). Alan Turing. Encyclopedia Britannica. https://www.britannica.com/biography/Alan-Turing\n",
    "\n",
    "Wikipedia contributors. (2022, October 22). Enigma machine. In Wikipedia, The Free Encyclopedia. Retrieved 17:34, October 21, 2022, from https://en.wikipedia.org/w/index.php?title=Enigma_machine&oldid=1117498764\n",
    "\n",
    "The national museum of computing. (n.d.). The Turing-Welchman Bombe. https://www.tnmoc.org/bombe\n",
    "\n",
    "101 computing. (2019, May 9). Enigma Crib Analysis. https://www.101computing.net/enigma-crib-analysis/\n",
    "\n",
    "Ludlow, D. (2011, January 20). How Bletchley Park broke the German Enigma code. https://www.expertreviews.co.uk/technology/7857/how-bletchley-park-broke-the-german-enigma-code\n",
    "\n",
    "Wikipedia contributors. (2022, January 5). Turingery. In Wikipedia, The Free Encyclopedia. Retrieved 18:43, October 22, 2022, from https://en.wikipedia.org/w/index.php?title=Turingery&oldid=1063877878\n",
    "\n",
    "Wikipedia contributors. (2022, April 10). Lorenz cipher. In Wikipedia, The Free Encyclopedia. Retrieved 18:59, October 22, 2022, from https://en.wikipedia.org/w/index.php?title=Lorenz_cipher&oldid=1081881709\n",
    "\n",
    "Zitarelli, D. (2015, January). Alan Turing in America – Cryptography. \n",
    "https://www.maa.org/press/periodicals/convergence/alan-turing-in-america-cryptography\n",
    "\n",
    "Tresorit team. (2022, January 14). The history of encryption: the roots of modern-day cyber-security.\n",
    "https://tresorit.com/blog/the-history-of-encryption-the-roots-of-modern-day-cyber-security/\n",
    "\n",
    "Aron, J. (n.d.) Alan Turing. https://www.newscientist.com/people/alan-turing/\n",
    "\n",
    "L. Casti, J, Calude, C. (n.d.). The jumble cruncher. https://www.newscientist.com/article/mg18324665-500-the-jumble-cruncher/\n",
    "\n",
    "Wikipedia contributors. (2022, October 23). Alan Turing. In Wikipedia, The Free Encyclopedia. Retrieved 19:28, October 22, 2022, from https://en.wikipedia.org/w/index.php?title=Alan_Turing&oldid=1117844782\n",
    "\n"
   ]
  },
  {
   "cell_type": "markdown",
   "metadata": {},
   "source": [
    "## Questions 13 to 24 are \"short questions\" that must be answered with just a couple of sentences with or without a single optional figure. References are not required for these answers. Be concise and on point."
   ]
  },
  {
   "cell_type": "markdown",
   "metadata": {},
   "source": [
    "## Question 13:\n",
    "\n",
    "(short question)\n",
    "\n",
    "Explain the PGP architecture. What does it have to do with symmetric and asymmetric encryption?"
   ]
  },
  {
   "cell_type": "markdown",
   "metadata": {},
   "source": [
    "PGP encryption follows a couple of steps, first the plaintext is compressed. A randomly generated key is then generated to encrypt the plaintext, this key is later encrypted using a public key. The reason why this is interesting is because it is both symmetric and asymmetric in the sense that encrypting the plaintext is done symmetrically and the encryption of the key is done asymmertically."
   ]
  },
  {
   "cell_type": "markdown",
   "metadata": {},
   "source": [
    "## Question 14:\n",
    "\n",
    "(short question)\n",
    "\n",
    "Briefly explain the Diffie-Hellman key exchange procedure. Also explain why it is such a popular and convenient system."
   ]
  },
  {
   "cell_type": "markdown",
   "metadata": {},
   "source": [
    "The DH key exchange works by using a common public key and each party having a private key that can be anything. Each party will use their private key and apply it to the public key to produce the mixed key, the mixed key is then exchanged and they apply their private key again. The two parties should now have the same key which they can use to encrypt and decrypt messages between eachother. Even if someone listens to the exchange of keys they can only get the mixed keys and the common public key and from this information it can be very hard to figure out the private keys. The reason for why it's a popular system is because the two parties can now send encrypted messages and it is not easy to get the key to decrypt those messages. The convenience comes from the relative simplicity, all that is needed is a common public key and for each party to generate their own key."
   ]
  },
  {
   "cell_type": "markdown",
   "metadata": {},
   "source": [
    "## Question 15:\n",
    "\n",
    "(short question)\n",
    "\n",
    "What is a backdoor to a cryptosystem? Do you believe backdoors to systems like AES, DES and RSA are likely?"
   ]
  },
  {
   "cell_type": "markdown",
   "metadata": {},
   "source": [
    "A backdoor would be a way to go around encryption and gain access to the encrypted data, these backdoors are deliberately created for various reasons such as giving a select few people the ability to decrypt messages when it relates to crime. An example of a backdoor would be a universal key that can decrypt every message. While backdoors can be useful they do pose a security risk and that's why I believe that AES, DES and RSA do not have any backdoors, these are three are huge algorithms that are trusted to be safe and that's why I believe they don't."
   ]
  },
  {
   "cell_type": "markdown",
   "metadata": {},
   "source": [
    "## Question 16:\n",
    "\n",
    "(short question)\n",
    "\n",
    "What are digital signatures and message authentication codes? What are the major differences between the two?"
   ]
  },
  {
   "cell_type": "markdown",
   "metadata": {},
   "source": [
    "They are both ways to ensure the integrity of dat aand its authenticity, they both work similarily. The major differences are non-repudiation and public/private keys. Message authentication codes are generated using the same secret key, while digital signatures uses both public and private keys. Digital signatures provide non-repudiation (ensures integrity and origin of data) since the private key is only known by the holder. The message authentication codes both use the same key which means that anyone with the key can produce a code for any message."
   ]
  },
  {
   "cell_type": "markdown",
   "metadata": {},
   "source": [
    "## Question 17:\n",
    "\n",
    "(short question)\n",
    "\n",
    "What is a side-channel attack? What can you do to prevent side-channel attacks?"
   ]
  },
  {
   "cell_type": "markdown",
   "metadata": {},
   "source": [
    "A side-channel attack is an attack based on information that is physicall leaked through the use of a cryptosystem. These can include checking how much power is used by the system or the sound that is made from various pieces of hardware. Side-channel attacks can rely on a lot of information that is leaked, if you want to prevent these you will want to make sure that the system leaks as little information as it can. To counter acoustic attacks, installing acoustic shielding foam to reduce the amount of sound that leaks could be one option, another could be to make sure that the cryptosystem is far away from people. "
   ]
  },
  {
   "cell_type": "markdown",
   "metadata": {},
   "source": [
    "## Question 18:\n",
    "\n",
    "(short question)\n",
    "\n",
    "What is a replay attack? What can you do to prevent replay attacks?"
   ]
  },
  {
   "cell_type": "markdown",
   "metadata": {},
   "source": [
    "A replay attack is where an attacker either replays or delays a message. Some form of authentification of the messages like adding timestaps or the use of one-time passwords."
   ]
  },
  {
   "cell_type": "markdown",
   "metadata": {},
   "source": [
    "## Question 19:\n",
    "\n",
    "(short question)\n",
    "\n",
    "What is a known-plaintext attack? Why are substitution ciphers vulnerable to known-plaintext attacks?"
   ]
  },
  {
   "cell_type": "markdown",
   "metadata": {},
   "source": [
    "A known-paintext attack is an attack where the attacker has both the paintext and the ciphertext. The reason why substituion ciphers are so weak to this attack is that you can map out which letter substitutes which, popular example of this is the enigma where every message ended with a phrase \"HH\"(not writing it out to avoid trouble)."
   ]
  },
  {
   "cell_type": "markdown",
   "metadata": {},
   "source": [
    "## Question 20:\n",
    "\n",
    "(short question)\n",
    "\n",
    "What is the difference between differential and linear cryptanalysis?"
   ]
  },
  {
   "cell_type": "markdown",
   "metadata": {},
   "source": [
    "Differential cryptanalysis studies how changes in the plaintext affects the ciphertext. Linear cryptanylsis studies the bits of the plaintext, the ciphertext and the unknown key to find linear relationships."
   ]
  },
  {
   "cell_type": "markdown",
   "metadata": {},
   "source": [
    "## Question 21:\n",
    "\n",
    "(short question)\n",
    "\n",
    "What is the Kerchoff's principle? Why should we follow this principle?"
   ]
  },
  {
   "cell_type": "markdown",
   "metadata": {},
   "source": [
    "Kerchoff's principle says that a system should be secure even if everything about the system is, except the key, is publicly known. One of the reasons why this principle is good to follow is because it is easier to maintain the security of the system, if an intruder manages to get their hands on the key, then instead of changing major parts of the system you can just change the key. The key is another big reason as to why this principle is good, the less you need to keep secret the easier it would hopefully be. So instead of having to keep major parts of a system secret you only need to keep the key a secret."
   ]
  },
  {
   "cell_type": "markdown",
   "metadata": {},
   "source": [
    "## Question 22:\n",
    "\n",
    "(short question)\n",
    "\n",
    "What are TRNGs and PRNGs? Give one or more examples of each."
   ]
  },
  {
   "cell_type": "markdown",
   "metadata": {},
   "source": [
    "TRNG tsands for true random number generator while PRNG stands for pseudorandom number generator. TRNG can be provided by dedicated hardware that uses a physical process instead of an algorithm to generate random numbers. PRNG is an algorithm that generates a sequence of numbers that have similar properties to sequences of random numbers, this makes them not truly random and only somewhat like random numbers. It is even possible to predict these \"random\" numbers in python."
   ]
  },
  {
   "cell_type": "markdown",
   "metadata": {},
   "source": [
    "## Question 23:\n",
    "\n",
    "(short question)\n",
    "\n",
    "What is the main drawback of RSA compared to ECC (elliptic curve cryptography)?"
   ]
  },
  {
   "cell_type": "markdown",
   "metadata": {},
   "source": [
    "ECC can give the same security as RSA with smaller keys, smaller keys requires less computational power and less load for the network."
   ]
  },
  {
   "cell_type": "markdown",
   "metadata": {},
   "source": [
    "## Question 24:\n",
    "\n",
    "(short question)\n",
    "\n",
    "What is the man-in-the-middle attack on the Diffie-Hellman protocol? What can be done to thwart this attack?"
   ]
  },
  {
   "cell_type": "markdown",
   "metadata": {},
   "source": [
    "When A interecepts B's mixed key(the combination of the common key and secret key), A can then send their own mixed key to C and then gets C's mixed key back. A and B then agree on a shared key and B and C agree on another key. Now whenever B sends a message to C, A has to decrypt and encrypt every message sent between the two. A way to thwart this attack is to provide some form of authentification."
   ]
  },
  {
   "cell_type": "code",
   "execution_count": null,
   "metadata": {},
   "outputs": [],
   "source": []
  }
 ],
 "metadata": {
  "kernelspec": {
   "display_name": "Python 3.10.1 64-bit",
   "language": "python",
   "name": "python3"
  },
  "language_info": {
   "codemirror_mode": {
    "name": "ipython",
    "version": 3
   },
   "file_extension": ".py",
   "mimetype": "text/x-python",
   "name": "python",
   "nbconvert_exporter": "python",
   "pygments_lexer": "ipython3",
   "version": "3.10.1"
  },
  "vscode": {
   "interpreter": {
    "hash": "6b41b13da69560a918c3d64d2127bc4b8ad8695f4f03e3c7564df4d35b03275b"
   }
  }
 },
 "nbformat": 4,
 "nbformat_minor": 5
}
